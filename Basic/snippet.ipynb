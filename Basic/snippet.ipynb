{
 "cells": [
  {
   "cell_type": "markdown",
   "metadata": {},
   "source": [
    "## Iterate files and folders in current working directory"
   ]
  },
  {
   "cell_type": "code",
   "execution_count": 13,
   "metadata": {},
   "outputs": [
    {
     "name": "stdout",
     "output_type": "stream",
     "text": [
      "/Users/LKY/Documents/github/Python/Basic\n",
      "sample.json\n",
      "/Users/LKY/Documents/github/Python/Basic/sample.json\n"
     ]
    }
   ],
   "source": [
    "import os\n",
    "\n",
    "# get current working directory\n",
    "cwd = os.getcwd()\n",
    "print(cwd)\n",
    "\n",
    "for file_name in os.listdir(cwd):\n",
    "    # use \"endswith\" to filter specific file type\n",
    "    if file_name.endswith(\".json\") or file_name.endswith(\".png\"):\n",
    "        print(file_name)\n",
    "        print(os.path.join(cwd, file_name))"
   ]
  },
  {
   "cell_type": "markdown",
   "metadata": {},
   "source": [
    "## Check if Given Path is File or Directory"
   ]
  },
  {
   "cell_type": "code",
   "execution_count": 15,
   "metadata": {},
   "outputs": [],
   "source": [
    "import os\n",
    "\n",
    "path = os.path.join(os.getcwd(), \"sample.json\")\n",
    "\n",
    "# check the path is a file\n",
    "isFile = os.path.isfile(path)\n",
    "\n",
    "# check the path is folder\n",
    "isDir = os.path.isdir(os.getcwd())"
   ]
  },
  {
   "cell_type": "markdown",
   "metadata": {},
   "source": [
    "## Open file & Parsing JSON file"
   ]
  },
  {
   "cell_type": "code",
   "execution_count": 37,
   "metadata": {},
   "outputs": [
    {
     "name": "stdout",
     "output_type": "stream",
     "text": [
      "[1, 3, 4]\n",
      "{\"a\": [1, 3, 4], \"b\": \"Peter\", \"c\": 12}\n"
     ]
    }
   ],
   "source": [
    "import os, json\n",
    "\n",
    "f = open(\"sample.json\", 'r')\n",
    "\n",
    "# return a line by line list\n",
    "# str = f.readlines() \n",
    "\n",
    "# return all content of the file\n",
    "str = f.read() \n",
    "\n",
    "# convert json to dict object\n",
    "dict1 = json.loads(str)\n",
    "\n",
    "print(dict1['a'])\n",
    "\n",
    "# dump dict to json\n",
    "json_str = json.dumps(dict1)\n",
    "\n",
    "print(json_str)"
   ]
  },
  {
   "cell_type": "code",
   "execution_count": null,
   "metadata": {},
   "outputs": [],
   "source": []
  }
 ],
 "metadata": {
  "kernelspec": {
   "display_name": "Python 3",
   "language": "python",
   "name": "python3"
  },
  "language_info": {
   "codemirror_mode": {
    "name": "ipython",
    "version": 3
   },
   "file_extension": ".py",
   "mimetype": "text/x-python",
   "name": "python",
   "nbconvert_exporter": "python",
   "pygments_lexer": "ipython3",
   "version": "3.8.0"
  }
 },
 "nbformat": 4,
 "nbformat_minor": 4
}
