{
 "cells": [
  {
   "cell_type": "markdown",
   "metadata": {},
   "source": [
    "## Common element in two sorted array in O(max[N,M])"
   ]
  },
  {
   "cell_type": "code",
   "execution_count": 4,
   "metadata": {},
   "outputs": [
    {
     "data": {
      "text/plain": [
       "[1, 4, 9]"
      ]
     },
     "execution_count": 4,
     "metadata": {},
     "output_type": "execute_result"
    }
   ],
   "source": [
    "arr1 = [1,3,4,6,7,9]\n",
    "arr2 = [1,2,4,5,9,10]\n",
    "\n",
    "def common_element(arr1, arr2):\n",
    "    ans = []\n",
    "    i,j = 0,0\n",
    "    while i < len(arr1) and j < len(arr2):\n",
    "        if arr1[i] == arr2[j]:\n",
    "            ans.append(arr1[i])\n",
    "            i+=1\n",
    "            j+=1\n",
    "        elif arr1[i] > arr2[j]:\n",
    "            j+=1\n",
    "        elif arr1[i] < arr2[j]:\n",
    "            i+=1\n",
    "    \n",
    "    return ans\n",
    "\n",
    "common_element(arr1, arr2)\n"
   ]
  },
  {
   "cell_type": "markdown",
   "metadata": {},
   "source": [
    "Key: 利用「已排序」的特性，已經超過的值後面必定不會再有相同的"
   ]
  }
 ],
 "metadata": {
  "kernelspec": {
   "display_name": "Python 3",
   "language": "python",
   "name": "python3"
  },
  "language_info": {
   "codemirror_mode": {
    "name": "ipython",
    "version": 3
   },
   "file_extension": ".py",
   "mimetype": "text/x-python",
   "name": "python",
   "nbconvert_exporter": "python",
   "pygments_lexer": "ipython3",
   "version": "3.7.6"
  }
 },
 "nbformat": 4,
 "nbformat_minor": 4
}
