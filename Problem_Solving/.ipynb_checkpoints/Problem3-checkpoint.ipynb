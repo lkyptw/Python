{
 "cells": [
  {
   "cell_type": "markdown",
   "metadata": {},
   "source": [
    "This problem was asked by Google.\n",
    "\n",
    "Given the root to a binary tree, implement serialize(root), which serializes the tree into a string, and deserialize(s), which deserializes the string back into the tree.\n",
    "\n",
    "For example, given the following Node class\n",
    "\n",
    "```python\n",
    "class Node:\n",
    "    def __init__(self, val, left=None, right=None):\n",
    "        self.val = val\n",
    "        self.left = left\n",
    "        self.right = right\n",
    "```\n",
    "\n",
    "The following test should pass:\n",
    "\n",
    "```python\n",
    "node = Node('root', Node('left', Node('left.left')), Node('right'))\n",
    "assert deserialize(serialize(node)).left.left.val == 'left.left'\n",
    "```"
   ]
  },
  {
   "cell_type": "code",
   "execution_count": 4,
   "metadata": {},
   "outputs": [
    {
     "name": "stdout",
     "output_type": "stream",
     "text": [
      "{peter{emma}{right}}\n"
     ]
    }
   ],
   "source": [
    "class Node:\n",
    "    def __init__(self, val, left=None, right=None):\n",
    "        self.val = val\n",
    "        self.left = left\n",
    "        self.right = right\n",
    "        \n",
    "def serialize(node):\n",
    "    if node is None:\n",
    "        return ''\n",
    "    else:\n",
    "        return '{' + node.val + serialize(node.left) + serialize(node.right) + '}'\n",
    "\n",
    "# {root{A{B}{C}}{D}}\n",
    "\n",
    "def addNode(parent, value):\n",
    "    node = Node(value)\n",
    "    if parent is None:\n",
    "        return node\n",
    "    if parent.left is None:\n",
    "        parent.left = node\n",
    "        return node\n",
    "    else:\n",
    "        parent.right = node\n",
    "        return node\n",
    "    \n",
    "def deserialize(string):\n",
    "    a = list(string)\n",
    "    parent = None\n",
    "    value = ''\n",
    "    c = []\n",
    "    while True:\n",
    "        item = a.pop(0)\n",
    "        if item == '{':\n",
    "            c.clear()\n",
    "            continue\n",
    "        \n",
    "        if item == '}':\n",
    "            \n",
    "            \n",
    "        \n",
    "node = Node('root', Node('left', Node('left.left')), Node('right'))\n",
    "\n",
    "a = serialize(node)\n",
    "print(a)\n",
    "\n",
    "#assert deserialize(a).left.left.val == 'left.left'\n"
   ]
  },
  {
   "cell_type": "markdown",
   "metadata": {},
   "source": []
  }
 ],
 "metadata": {
  "kernelspec": {
   "display_name": "Python 3",
   "language": "python",
   "name": "python3"
  },
  "language_info": {
   "codemirror_mode": {
    "name": "ipython",
    "version": 3
   },
   "file_extension": ".py",
   "mimetype": "text/x-python",
   "name": "python",
   "nbconvert_exporter": "python",
   "pygments_lexer": "ipython3",
   "version": "3.6.9"
  }
 },
 "nbformat": 4,
 "nbformat_minor": 4
}
