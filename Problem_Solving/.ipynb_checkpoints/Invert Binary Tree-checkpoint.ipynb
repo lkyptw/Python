{
 "cells": [
  {
   "cell_type": "code",
   "execution_count": null,
   "metadata": {},
   "outputs": [],
   "source": [
    "class Node:\n",
    "    def __init__(self, value):\n",
    "        self.value = value\n",
    "        self.left = None\n",
    "        self.right = None\n",
    "    \n",
    "class BST:\n",
    "    def __init__(self):\n",
    "        self.root = Node()\n",
    "    \n",
    "    def add_value(self, node, value):\n",
    "        if value <= node.value:\n",
    "            if node.left == None:\n",
    "                node.left = Node(value)\n",
    "            else:\n",
    "                add_value(node.left, value)\n",
    "        else:    \n",
    "            if node.right == None:\n",
    "                node.right = Node(value)\n",
    "            else:\n",
    "                add_value(node.right, value)\n",
    "            "
   ]
  }
 ],
 "metadata": {
  "kernelspec": {
   "display_name": "Python 3",
   "language": "python",
   "name": "python3"
  },
  "language_info": {
   "codemirror_mode": {
    "name": "ipython",
    "version": 3
   },
   "file_extension": ".py",
   "mimetype": "text/x-python",
   "name": "python",
   "nbconvert_exporter": "python",
   "pygments_lexer": "ipython3",
   "version": "3.8.0"
  }
 },
 "nbformat": 4,
 "nbformat_minor": 4
}
