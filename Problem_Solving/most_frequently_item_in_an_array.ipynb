{
 "cells": [
  {
   "cell_type": "markdown",
   "metadata": {},
   "source": [
    "## Write a function to return most frequenctly occurring item in complexity = O(N)"
   ]
  },
  {
   "cell_type": "code",
   "execution_count": 13,
   "metadata": {},
   "outputs": [
    {
     "data": {
      "text/plain": [
       "9"
      ]
     },
     "execution_count": 13,
     "metadata": {},
     "output_type": "execute_result"
    }
   ],
   "source": [
    "given_list = [1,3,3,1,7,7,9,9,9,9,9,9,9,9,1,3,7,3]\n",
    "\n",
    "def most_frequent(given_list):\n",
    "    count = {}\n",
    "    max_count = -1\n",
    "    max_item = None\n",
    "    for item in given_list:\n",
    "        if item not in count:\n",
    "            count[item] = 1\n",
    "        else:\n",
    "            count[item] += 1\n",
    "    \n",
    "        if count[item] > max_count:\n",
    "            max_count = count[item]\n",
    "            max_item = item\n",
    "\n",
    "    return max_item\n",
    "\n",
    "most_frequent(given_list)"
   ]
  }
 ],
 "metadata": {
  "kernelspec": {
   "display_name": "Python 3",
   "language": "python",
   "name": "python3"
  },
  "language_info": {
   "codemirror_mode": {
    "name": "ipython",
    "version": 3
   },
   "file_extension": ".py",
   "mimetype": "text/x-python",
   "name": "python",
   "nbconvert_exporter": "python",
   "pygments_lexer": "ipython3",
   "version": "3.8.0"
  }
 },
 "nbformat": 4,
 "nbformat_minor": 4
}
