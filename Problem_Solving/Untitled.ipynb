{
 "cells": [
  {
   "cell_type": "code",
   "execution_count": 63,
   "metadata": {},
   "outputs": [
    {
     "ename": "IndentationError",
     "evalue": "unindent does not match any outer indentation level (<tokenize>, line 13)",
     "output_type": "error",
     "traceback": [
      "\u001b[0;36m  File \u001b[0;32m\"<tokenize>\"\u001b[0;36m, line \u001b[0;32m13\u001b[0m\n\u001b[0;31m    ans += nums[i]\u001b[0m\n\u001b[0m    ^\u001b[0m\n\u001b[0;31mIndentationError\u001b[0m\u001b[0;31m:\u001b[0m unindent does not match any outer indentation level\n"
     ]
    }
   ],
   "source": [
    "def maxArray(nums, k):\n",
    "\tif len(nums)==0 or len(nums) < k:\n",
    "\t\treturn None\n",
    "\tif len(nums) == k:\n",
    "\t\treturn sum(nums)\n",
    "\n",
    "\ttotal_sum = sum(nums)\n",
    "\tdiff = sum(nums) - nums[0]\n",
    "\tcount = 1\n",
    "\tans = nums[0]\n",
    "\tfor i in range(1,len(nums)):\n",
    "\t\tif total_sum - nums[i] < diff:\n",
    "            ans += nums[i]\n",
    "            count += 1\n",
    "            diff = total_sum - nums[i]\n",
    "\t\t\tif count == k:\n",
    "\t\t\t\tbreak\n",
    "    return ans\n",
    "\n"
   ]
  },
  {
   "cell_type": "code",
   "execution_count": 30,
   "metadata": {},
   "outputs": [
    {
     "data": {
      "text/plain": [
       "6"
      ]
     },
     "execution_count": 30,
     "metadata": {},
     "output_type": "execute_result"
    }
   ],
   "source": [
    "a = [1,3,-3,2,5]\n",
    "\n",
    "maxArray(a, 3)"
   ]
  },
  {
   "cell_type": "code",
   "execution_count": null,
   "metadata": {},
   "outputs": [],
   "source": []
  }
 ],
 "metadata": {
  "kernelspec": {
   "display_name": "Python 3",
   "language": "python",
   "name": "python3"
  },
  "language_info": {
   "codemirror_mode": {
    "name": "ipython",
    "version": 3
   },
   "file_extension": ".py",
   "mimetype": "text/x-python",
   "name": "python",
   "nbconvert_exporter": "python",
   "pygments_lexer": "ipython3",
   "version": "3.8.0"
  }
 },
 "nbformat": 4,
 "nbformat_minor": 4
}
