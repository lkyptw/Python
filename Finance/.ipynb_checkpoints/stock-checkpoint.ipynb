{
 "cells": [
  {
   "cell_type": "markdown",
   "metadata": {},
   "source": [
    "## 從Excel讀取元大台灣50與中型100股票代碼與名稱\n"
   ]
  },
  {
   "cell_type": "code",
   "execution_count": 4,
   "metadata": {},
   "outputs": [],
   "source": [
    "# ref: https://pandas.pydata.org/docs/user_guide/io.html#excel-files\n",
    "\n",
    "import pandas as pd\n",
    "\n",
    "df50 = pd.read_excel('TWSE_Stock50_20200506.xlsx', sheet_name='Sheet1')\n",
    "df100 = pd.read_excel('TWSE_Stock100_20200506.xlsx', sheet_name='Sheet1')\n",
    "\n",
    "# use concat to combine two dataframe\n",
    "df150 = pd.concat([df50, df100])\n",
    "stock_code = df150['證券代碼']\n",
    "stock_name = df150['證券名稱']"
   ]
  },
  {
   "cell_type": "markdown",
   "metadata": {},
   "source": [
    "## 練習用pandas把html的表格爬取出來並輸出成Dataframe"
   ]
  },
  {
   "cell_type": "code",
   "execution_count": 16,
   "metadata": {},
   "outputs": [
    {
     "data": {
      "text/html": [
       "<div>\n",
       "<style scoped>\n",
       "    .dataframe tbody tr th:only-of-type {\n",
       "        vertical-align: middle;\n",
       "    }\n",
       "\n",
       "    .dataframe tbody tr th {\n",
       "        vertical-align: top;\n",
       "    }\n",
       "\n",
       "    .dataframe thead th {\n",
       "        text-align: right;\n",
       "    }\n",
       "</style>\n",
       "<table border=\"1\" class=\"dataframe\">\n",
       "  <thead>\n",
       "    <tr style=\"text-align: right;\">\n",
       "      <th></th>\n",
       "      <th>已棄用的</th>\n",
       "      <th>原本用途</th>\n",
       "      <th>HTML5 建議改用</th>\n",
       "    </tr>\n",
       "  </thead>\n",
       "  <tbody>\n",
       "    <tr>\n",
       "      <th>0</th>\n",
       "      <td>align</td>\n",
       "      <td>html元素如何環繞table(例)</td>\n",
       "      <td>改用CSS float設定</td>\n",
       "    </tr>\n",
       "    <tr>\n",
       "      <th>1</th>\n",
       "      <td>bgcolor</td>\n",
       "      <td>設定背景色</td>\n",
       "      <td>改用CSS background-color設定</td>\n",
       "    </tr>\n",
       "    <tr>\n",
       "      <th>2</th>\n",
       "      <td>border</td>\n",
       "      <td>表格的邊框寬度(例)</td>\n",
       "      <td>改用CSS border設定</td>\n",
       "    </tr>\n",
       "    <tr>\n",
       "      <th>3</th>\n",
       "      <td>cellpadding</td>\n",
       "      <td>表格內容跟邊緣的寬度(例)</td>\n",
       "      <td>改用CSS padding設定</td>\n",
       "    </tr>\n",
       "    <tr>\n",
       "      <th>4</th>\n",
       "      <td>cellspacing</td>\n",
       "      <td>格與格之間的距離(例)</td>\n",
       "      <td>改用CSS設定</td>\n",
       "    </tr>\n",
       "    <tr>\n",
       "      <th>5</th>\n",
       "      <td>frame</td>\n",
       "      <td>規定圍繞表格的邊框哪些是可見的(例)</td>\n",
       "      <td>改用CSS設定</td>\n",
       "    </tr>\n",
       "    <tr>\n",
       "      <th>6</th>\n",
       "      <td>rules</td>\n",
       "      <td>規定內側哪些邊框式可見的(例)</td>\n",
       "      <td>改用CSS設定</td>\n",
       "    </tr>\n",
       "    <tr>\n",
       "      <th>7</th>\n",
       "      <td>summary</td>\n",
       "      <td>表格摘要(例)</td>\n",
       "      <td>NaN</td>\n",
       "    </tr>\n",
       "    <tr>\n",
       "      <th>8</th>\n",
       "      <td>width</td>\n",
       "      <td>規定表格的寬度</td>\n",
       "      <td>改用CSS設定</td>\n",
       "    </tr>\n",
       "  </tbody>\n",
       "</table>\n",
       "</div>"
      ],
      "text/plain": [
       "          已棄用的                原本用途                HTML5 建議改用\n",
       "0        align  html元素如何環繞table(例)             改用CSS float設定\n",
       "1      bgcolor               設定背景色  改用CSS background-color設定\n",
       "2       border          表格的邊框寬度(例)            改用CSS border設定\n",
       "3  cellpadding       表格內容跟邊緣的寬度(例)           改用CSS padding設定\n",
       "4  cellspacing         格與格之間的距離(例)                   改用CSS設定\n",
       "5        frame  規定圍繞表格的邊框哪些是可見的(例)                   改用CSS設定\n",
       "6        rules     規定內側哪些邊框式可見的(例)                   改用CSS設定\n",
       "7      summary             表格摘要(例)                       NaN\n",
       "8        width             規定表格的寬度                   改用CSS設定"
      ]
     },
     "execution_count": 16,
     "metadata": {},
     "output_type": "execute_result"
    }
   ],
   "source": [
    "import requests\n",
    "import pandas as pd\n",
    "from io import StringIO\n",
    "\n",
    "res = requests.get('https://ithelp.ithome.com.tw/articles/10195797')\n",
    "res.encoding = 'utf-8'\n",
    "\n",
    "# 使用StringIO將res.text存成記憶體的file 就不用另外存檔\n",
    "df = pd.read_html(StringIO(res.text))\n",
    "df[1]\n"
   ]
  },
  {
   "cell_type": "code",
   "execution_count": null,
   "metadata": {},
   "outputs": [],
   "source": []
  },
  {
   "cell_type": "code",
   "execution_count": null,
   "metadata": {},
   "outputs": [],
   "source": []
  }
 ],
 "metadata": {
  "kernelspec": {
   "display_name": "Python 3",
   "language": "python",
   "name": "python3"
  },
  "language_info": {
   "codemirror_mode": {
    "name": "ipython",
    "version": 3
   },
   "file_extension": ".py",
   "mimetype": "text/x-python",
   "name": "python",
   "nbconvert_exporter": "python",
   "pygments_lexer": "ipython3",
   "version": "3.7.6"
  }
 },
 "nbformat": 4,
 "nbformat_minor": 4
}
