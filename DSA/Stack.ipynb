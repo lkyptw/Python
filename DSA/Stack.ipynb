{
 "cells": [
  {
   "cell_type": "markdown",
   "metadata": {},
   "source": [
    "Stack ADT\n",
    "==="
   ]
  },
  {
   "cell_type": "code",
   "execution_count": 12,
   "metadata": {},
   "outputs": [],
   "source": [
    "class Stack:\n",
    "    # Create a empty stack.\n",
    "    def __init__(self):\n",
    "        self._theItems = list()\n",
    "    \n",
    "    # Returns True if the stack if empty or False otherwise.\n",
    "    def isEmpty(self):\n",
    "        return len(self._theItems) == 0\n",
    "    \n",
    "    # Returns the number of items in the stack.\n",
    "    def __len__(self):\n",
    "        return len(self._theItems)\n",
    "    \n",
    "    # Returns the top item on the stack without removing it.\n",
    "    def peek(self):\n",
    "        assert not isEmpty(), \"Cannot peek at an empty stack\"\n",
    "        return self._theItems[-1]\n",
    "    \n",
    "    # Removes and return the top item on the stack.\n",
    "    def pop(self):\n",
    "        assert not isEmpty(), \"Cannot pop from an empty stack\"\n",
    "        return self._theItems.pop()\n",
    "    \n",
    "    # Push an item onto the top of the stack.\n",
    "    def push(self, item):\n",
    "        self._theItems.append(item)\n",
    "        "
   ]
  }
 ],
 "metadata": {
  "kernelspec": {
   "display_name": "Python 3",
   "language": "python",
   "name": "python3"
  },
  "language_info": {
   "codemirror_mode": {
    "name": "ipython",
    "version": 3
   },
   "file_extension": ".py",
   "mimetype": "text/x-python",
   "name": "python",
   "nbconvert_exporter": "python",
   "pygments_lexer": "ipython3",
   "version": "3.8.0"
  }
 },
 "nbformat": 4,
 "nbformat_minor": 4
}
